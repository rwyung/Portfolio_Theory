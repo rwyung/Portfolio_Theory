{
 "cells": [
  {
   "cell_type": "code",
   "execution_count": 1,
   "metadata": {},
   "outputs": [],
   "source": [
    "\n",
    "from bondutils import PVCF, CustomCashflowPV\n",
    "import numpy as np\n"
   ]
  },
  {
   "cell_type": "code",
   "execution_count": 2,
   "metadata": {},
   "outputs": [],
   "source": [
    "\n",
    "term = 1\n",
    "freq = 2 \n",
    "Cashflow = 100 \n",
    "r_1 =  0.05\n",
    "\n",
    "test_7 = PVCF(term, Cashflow=Cashflow,df=r_1,freq=2)\n",
    "term_array = np.arange(0,10+0.5,0.5)"
   ]
  },
  {
   "cell_type": "code",
   "execution_count": 3,
   "metadata": {},
   "outputs": [
    {
     "name": "stdout",
     "output_type": "stream",
     "text": [
      "98.77295966495898\n"
     ]
    }
   ],
   "source": [
    "print(test_7) # 98.77295966495898\n"
   ]
  },
  {
   "cell_type": "code",
   "execution_count": 4,
   "metadata": {},
   "outputs": [
    {
     "name": "stdout",
     "output_type": "stream",
     "text": [
      "[100 100 100 100 100 100 100 100 100 100 100 100 100 100 100 100 100 100\n",
      " 100 100 100]\n"
     ]
    }
   ],
   "source": [
    "Cashflow_array = np.array([Cashflow for _ in range(len(term_array))])\n",
    "rate_array = np.array([r_1 for _ in range(len(term_array))])\n",
    "print(Cashflow_array)"
   ]
  },
  {
   "cell_type": "code",
   "execution_count": 5,
   "metadata": {},
   "outputs": [
    {
     "data": {
      "text/plain": [
       "array([100.        ,  99.38458616,  98.77295966,  98.1650972 ,\n",
       "        97.56097561,  96.96057186,  96.36386309,  95.77082654,\n",
       "        95.18143962,  94.59567987,  94.01352496,  93.43495272,\n",
       "        92.85994109,  92.28846816,  91.72051216,  91.15605144,\n",
       "        90.59506448,  90.03752992,  89.4834265 ,  88.93273311,\n",
       "        88.38542876])"
      ]
     },
     "execution_count": 5,
     "metadata": {},
     "output_type": "execute_result"
    }
   ],
   "source": [
    "PVCF(term_array, Cashflow_array, rate_array,2)"
   ]
  },
  {
   "cell_type": "code",
   "execution_count": null,
   "metadata": {},
   "outputs": [],
   "source": []
  },
  {
   "cell_type": "code",
   "execution_count": 8,
   "metadata": {},
   "outputs": [
    {
     "name": "stdout",
     "output_type": "stream",
     "text": [
      "[ 0.   0.5  1.   1.5  2.   2.5  3.   3.5  4.   4.5  5.   5.5  6.   6.5\n",
      "  7.   7.5  8.   8.5  9.   9.5 10. ]\n",
      "------------------\n",
      "[100 100 100 100 100 100 100 100 100 100 100 100 100 100 100 100 100 100\n",
      " 100 100 100]\n",
      "------------------\n",
      "0.05\n",
      "------------------\n",
      "2\n",
      "1975.6636329152159\n"
     ]
    }
   ],
   "source": [
    "test_8 = CustomCashflowPV(term_array,Cashflows=Cashflow,df=r_1, freq=freq)\n",
    "print(test_8.sum())"
   ]
  }
 ],
 "metadata": {
  "kernelspec": {
   "display_name": "Python 3.10.5 64-bit",
   "language": "python",
   "name": "python3"
  },
  "language_info": {
   "codemirror_mode": {
    "name": "ipython",
    "version": 3
   },
   "file_extension": ".py",
   "mimetype": "text/x-python",
   "name": "python",
   "nbconvert_exporter": "python",
   "pygments_lexer": "ipython3",
   "version": "3.10.5"
  },
  "orig_nbformat": 4,
  "vscode": {
   "interpreter": {
    "hash": "f57edf8f964a25f0f9599e09c28102b62be09ab2a3d99047fa2455988887e91e"
   }
  }
 },
 "nbformat": 4,
 "nbformat_minor": 2
}
